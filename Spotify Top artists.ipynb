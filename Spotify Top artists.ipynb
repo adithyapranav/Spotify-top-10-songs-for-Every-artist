{
 "cells": [
  {
   "cell_type": "code",
   "execution_count": 1,
   "id": "8c119043",
   "metadata": {},
   "outputs": [
    {
     "name": "stdout",
     "output_type": "stream",
     "text": [
      "Collecting spotipy\n",
      "  Downloading spotipy-2.23.0-py3-none-any.whl (29 kB)\n",
      "Collecting redis>=3.5.3 (from spotipy)\n",
      "  Downloading redis-5.0.1-py3-none-any.whl.metadata (8.9 kB)\n",
      "Requirement already satisfied: requests>=2.25.0 in c:\\users\\adhi\\downloads\\jf\\navigator\\lib\\site-packages (from spotipy) (2.31.0)\n",
      "Requirement already satisfied: six>=1.15.0 in c:\\users\\adhi\\downloads\\jf\\navigator\\lib\\site-packages (from spotipy) (1.16.0)\n",
      "Requirement already satisfied: urllib3>=1.26.0 in c:\\users\\adhi\\downloads\\jf\\navigator\\lib\\site-packages (from spotipy) (1.26.8)\n",
      "Collecting async-timeout>=4.0.2 (from redis>=3.5.3->spotipy)\n",
      "  Downloading async_timeout-4.0.3-py3-none-any.whl.metadata (4.2 kB)\n",
      "Requirement already satisfied: importlib-metadata>=1.0 in c:\\users\\adhi\\downloads\\jf\\navigator\\lib\\site-packages (from redis>=3.5.3->spotipy) (4.11.3)\n",
      "Requirement already satisfied: typing-extensions in c:\\users\\adhi\\downloads\\jf\\navigator\\lib\\site-packages (from redis>=3.5.3->spotipy) (4.1.1)\n",
      "Requirement already satisfied: charset-normalizer<4,>=2 in c:\\users\\adhi\\downloads\\jf\\navigator\\lib\\site-packages (from requests>=2.25.0->spotipy) (2.0.4)\n",
      "Requirement already satisfied: idna<4,>=2.5 in c:\\users\\adhi\\downloads\\jf\\navigator\\lib\\site-packages (from requests>=2.25.0->spotipy) (3.3)\n",
      "Requirement already satisfied: certifi>=2017.4.17 in c:\\users\\adhi\\downloads\\jf\\navigator\\lib\\site-packages (from requests>=2.25.0->spotipy) (2022.6.15)"
     ]
    },
    {
     "name": "stderr",
     "output_type": "stream",
     "text": [
      "DEPRECATION: pandas 0.24.2 has a non-standard dependency specifier pytz>=2011k. pip 24.0 will enforce this behaviour change. A possible replacement is to upgrade to a newer version of pandas or contact the author to suggest that they release a version with a conforming dependency specifiers. Discussion can be found at https://github.com/pypa/pip/issues/12063\n"
     ]
    },
    {
     "name": "stdout",
     "output_type": "stream",
     "text": [
      "\n",
      "Requirement already satisfied: zipp>=0.5 in c:\\users\\adhi\\downloads\\jf\\navigator\\lib\\site-packages (from importlib-metadata>=1.0->redis>=3.5.3->spotipy) (3.7.0)\n",
      "Downloading redis-5.0.1-py3-none-any.whl (250 kB)\n",
      "   -------------------------------------- 250.3/250.3 kB 452.0 kB/s eta 0:00:00\n",
      "Downloading async_timeout-4.0.3-py3-none-any.whl (5.7 kB)\n",
      "Installing collected packages: async-timeout, redis, spotipy\n",
      "Successfully installed async-timeout-4.0.3 redis-5.0.1 spotipy-2.23.0\n"
     ]
    }
   ],
   "source": [
    "!pip install spotipy"
   ]
  },
  {
   "cell_type": "code",
   "execution_count": 111,
   "id": "2d00b3bb",
   "metadata": {},
   "outputs": [
    {
     "name": "stdout",
     "output_type": "stream",
     "text": [
      "Collecting openpyxl"
     ]
    },
    {
     "name": "stderr",
     "output_type": "stream",
     "text": [
      "DEPRECATION: pandas 0.24.2 has a non-standard dependency specifier pytz>=2011k. pip 24.0 will enforce this behaviour change. A possible replacement is to upgrade to a newer version of pandas or contact the author to suggest that they release a version with a conforming dependency specifiers. Discussion can be found at https://github.com/pypa/pip/issues/12063\n"
     ]
    },
    {
     "name": "stdout",
     "output_type": "stream",
     "text": [
      "\n",
      "  Downloading openpyxl-3.1.2-py2.py3-none-any.whl (249 kB)\n",
      "     -------------------------------------- 250.0/250.0 kB 3.8 MB/s eta 0:00:00\n",
      "Collecting et-xmlfile (from openpyxl)\n",
      "  Downloading et_xmlfile-1.1.0-py3-none-any.whl (4.7 kB)\n",
      "Installing collected packages: et-xmlfile, openpyxl\n",
      "Successfully installed et-xmlfile-1.1.0 openpyxl-3.1.2\n"
     ]
    }
   ],
   "source": [
    "!pip install openpyxl"
   ]
  },
  {
   "cell_type": "code",
   "execution_count": 112,
   "id": "0c1844d1",
   "metadata": {},
   "outputs": [],
   "source": [
    "import spotipy\n",
    "import pandas as pd\n",
    "from spotipy.oauth2 import SpotifyClientCredentials\n",
    "import numpy as np\n",
    "import openpyxl"
   ]
  },
  {
   "cell_type": "code",
   "execution_count": 98,
   "id": "2d28889b",
   "metadata": {},
   "outputs": [],
   "source": [
    "client_id = '1ca4678f8b084e53b8b7b52d6494d824'\n",
    "client_secret = '74b31ab7849d4c88ae8adb08fdccd14e'\n",
    "client_credentials_manager = SpotifyClientCredentials(client_id=client_id, client_secret=client_secret)\n",
    "sp = spotipy.Spotify(client_credentials_manager=client_credentials_manager)"
   ]
  },
  {
   "cell_type": "code",
   "execution_count": 99,
   "id": "6501152c",
   "metadata": {},
   "outputs": [
    {
     "name": "stdout",
     "output_type": "stream",
     "text": [
      "          0              1\n",
      "0         1          Drake\n",
      "1         1          Drake\n",
      "2         1          Drake\n",
      "3         1          Drake\n",
      "4         1          Drake\n",
      "5         1          Drake\n",
      "6         1          Drake\n",
      "7         1          Drake\n",
      "8         1          Drake\n",
      "9         1          Drake\n",
      "10        2      Bad Bunny\n",
      "11        2      Bad Bunny\n",
      "12        2      Bad Bunny\n",
      "13        2      Bad Bunny\n",
      "14        2      Bad Bunny\n",
      "15        2      Bad Bunny\n",
      "16        2      Bad Bunny\n",
      "17        2      Bad Bunny\n",
      "18        2      Bad Bunny\n",
      "19        2      Bad Bunny\n",
      "20        3     Ed Sheeran\n",
      "21        3     Ed Sheeran\n",
      "22        3     Ed Sheeran\n",
      "23        3     Ed Sheeran\n",
      "24        3     Ed Sheeran\n",
      "25        3     Ed Sheeran\n",
      "26        3     Ed Sheeran\n",
      "27        3     Ed Sheeran\n",
      "28        3     Ed Sheeran\n",
      "29        3     Ed Sheeran\n",
      "...     ...            ...\n",
      "10010  1007    Duke Dumont\n",
      "10011  1007    Duke Dumont\n",
      "10012  1007    Duke Dumont\n",
      "10013  1007    Duke Dumont\n",
      "10014  1007    Duke Dumont\n",
      "10015  1007    Duke Dumont\n",
      "10016  1007    Duke Dumont\n",
      "10017  1007    Duke Dumont\n",
      "10018  1007    Duke Dumont\n",
      "10019  1007    Duke Dumont\n",
      "10020  1008  Laura Pausini\n",
      "10021  1008  Laura Pausini\n",
      "10022  1008  Laura Pausini\n",
      "10023  1008  Laura Pausini\n",
      "10024  1008  Laura Pausini\n",
      "10025  1008  Laura Pausini\n",
      "10026  1008  Laura Pausini\n",
      "10027  1008  Laura Pausini\n",
      "10028  1008  Laura Pausini\n",
      "10029  1008  Laura Pausini\n",
      "10030  1009           Beck\n",
      "10031  1009           Beck\n",
      "10032  1009           Beck\n",
      "10033  1009           Beck\n",
      "10034  1009           Beck\n",
      "10035  1009           Beck\n",
      "10036  1009           Beck\n",
      "10037  1009           Beck\n",
      "10038  1009           Beck\n",
      "10039  1009           Beck\n",
      "\n",
      "[10040 rows x 2 columns]\n"
     ]
    }
   ],
   "source": [
    "df=pd.read_csv(r'spotify_artist_data.csv')\n",
    "#print(df.columns)\n",
    "df=df.drop(columns=['Lead Streams','Feats','Lead Streams', 'Feats', 'Tracks',\n",
    "       'One Billion', '100 Million', 'Last Updated'])\n",
    "df=df[~df['Artist Name'].isin(['Dave','TKKG','Skepta','Salmo','Marracash'])]\n",
    "#print(df)\n",
    "artist_names=[]\n",
    "for i in df['Artist Name']:\n",
    "    artist_names.append(i)\n",
    "df=pd.DataFrame(np.repeat(df.values,10,axis=0))\n",
    "print(df)"
   ]
  },
  {
   "cell_type": "code",
   "execution_count": 101,
   "id": "c5ffbebe",
   "metadata": {},
   "outputs": [],
   "source": [
    "song_lists=[]\n",
    "intt=0\n",
    "for i in artist_names:\n",
    "    result = sp.search(i) \n",
    "    artist_uri = result['tracks']['items'][0]['artists'][0]['uri']\n",
    "    listt=sp.artist_top_tracks(artist_uri, country='US')['tracks']\n",
    "    for l in listt:\n",
    "        song_lists.append(l['name'])\n",
    "    intt+=len(listt)\n",
    "df['top songs']=song_lists\n",
    "#print(df.shape,len(song_lists))"
   ]
  },
  {
   "cell_type": "code",
   "execution_count": 102,
   "id": "1e3eb89c",
   "metadata": {},
   "outputs": [
    {
     "name": "stdout",
     "output_type": "stream",
     "text": [
      "          0              1                                          top songs\n",
      "0         1          Drake                                 IDGAF (feat. Yeat)\n",
      "1         1          Drake               First Person Shooter (feat. J. Cole)\n",
      "2         1          Drake            Rich Baby Daddy (feat. Sexyy Red & SZA)\n",
      "3         1          Drake                      Jimmy Cooks (feat. 21 Savage)\n",
      "4         1          Drake                                          One Dance\n",
      "5         1          Drake                             MELTDOWN (feat. Drake)\n",
      "6         1          Drake                                     Virginia Beach\n",
      "7         1          Drake                                          Rich Flex\n",
      "8         1          Drake                          Slime You Out (feat. SZA)\n",
      "9         1          Drake                                         God's Plan\n",
      "10        2      Bad Bunny                                        PERRO NEGRO\n",
      "11        2      Bad Bunny                                             MONACO\n",
      "12        2      Bad Bunny                                          un x100to\n",
      "13        2      Bad Bunny                                         UN PREVIEW\n",
      "14        2      Bad Bunny                                               FINA\n",
      "15        2      Bad Bunny                                     WHERE SHE GOES\n",
      "16        2      Bad Bunny                                    Me Porto Bonito\n",
      "17        2      Bad Bunny                                             HIBIKI\n",
      "18        2      Bad Bunny                                      Ojitos Lindos\n",
      "19        2      Bad Bunny                                               SEDA\n",
      "20        3     Ed Sheeran                                            Perfect\n",
      "21        3     Ed Sheeran                                       Shape of You\n",
      "22        3     Ed Sheeran                                         Photograph\n",
      "23        3     Ed Sheeran                                    Merry Christmas\n",
      "24        3     Ed Sheeran                                            Shivers\n",
      "25        3     Ed Sheeran                                  Thinking out Loud\n",
      "26        3     Ed Sheeran                                         Bad Habits\n",
      "27        3     Ed Sheeran                                        Eyes Closed\n",
      "28        3     Ed Sheeran                         Bam Bam (feat. Ed Sheeran)\n",
      "29        3     Ed Sheeran                                 Castle on the Hill\n",
      "...     ...            ...                                                ...\n",
      "10010  1007    Duke Dumont                                        Ocean Drive\n",
      "10011  1007    Duke Dumont                               Something On My Mind\n",
      "10012  1007    Duke Dumont                                            I Got U\n",
      "10013  1007    Duke Dumont  Red Light Green Light - For Club Play Only, Pt. 6\n",
      "10014  1007    Duke Dumont           Need U (100%) (feat. A*M*E) - Radio Edit\n",
      "10015  1007    Duke Dumont                                          The Power\n",
      "10016  1007    Duke Dumont              The Chant - For Club Play Only, Pt. 8\n",
      "10017  1007    Duke Dumont                                    Won't Look Back\n",
      "10018  1007    Duke Dumont                                The Giver (Reprise)\n",
      "10019  1007    Duke Dumont                         Ocean Drive - Extended Mix\n",
      "10020  1008  Laura Pausini                                             Se fué\n",
      "10021  1008  Laura Pausini                                       En cambio no\n",
      "10022  1008  Laura Pausini                                             Víveme\n",
      "10023  1008  Laura Pausini                        Y, ¿Si Fuera Ella? - + Es +\n",
      "10024  1008  Laura Pausini                               Entre tú y mil mares\n",
      "10025  1008  Laura Pausini                                    Amores extraños\n",
      "10026  1008  Laura Pausini                     Amores extraños - Versión 2001\n",
      "10027  1008  Laura Pausini                                         La soledad\n",
      "10028  1008  Laura Pausini                                 Volveré junto a ti\n",
      "10029  1008  Laura Pausini                                      La solitudine\n",
      "10030  1009           Beck                                             MAMIII\n",
      "10031  1009           Beck  POR EL CONTRARIO (with Angela Aguilar & Leonar...\n",
      "10032  1009           Beck                                             CHANEL\n",
      "10033  1009           Beck                              Arranca (feat. Omega)\n",
      "10034  1009           Beck                                             Shower\n",
      "10035  1009           Beck                                            Mayores\n",
      "10036  1009           Beck                                     Cuando Te Besé\n",
      "10037  1009           Beck                                         Sin Pijama\n",
      "10038  1009           Beck                                        2NDO CHANCE\n",
      "10039  1009           Beck                                      Mal de Amores\n",
      "\n",
      "[10040 rows x 3 columns]\n"
     ]
    }
   ],
   "source": [
    "print(df)"
   ]
  },
  {
   "cell_type": "code",
   "execution_count": 113,
   "id": "42ba18cd",
   "metadata": {},
   "outputs": [],
   "source": [
    "df[[1,'top songs']].to_excel('output.xlsx')"
   ]
  },
  {
   "cell_type": "code",
   "execution_count": null,
   "id": "90dcabb1",
   "metadata": {},
   "outputs": [],
   "source": []
  }
 ],
 "metadata": {
  "kernelspec": {
   "display_name": "Python 3 (ipykernel)",
   "language": "python",
   "name": "python3"
  },
  "language_info": {
   "codemirror_mode": {
    "name": "ipython",
    "version": 3
   },
   "file_extension": ".py",
   "mimetype": "text/x-python",
   "name": "python",
   "nbconvert_exporter": "python",
   "pygments_lexer": "ipython3",
   "version": "3.7.3"
  }
 },
 "nbformat": 4,
 "nbformat_minor": 5
}
